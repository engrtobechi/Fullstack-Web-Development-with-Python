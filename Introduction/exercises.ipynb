{
 "cells": [
  {
   "cell_type": "code",
   "execution_count": 1,
   "metadata": {},
   "outputs": [
    {
     "name": "stdout",
     "output_type": "stream",
     "text": [
      "Not leap year\n"
     ]
    }
   ],
   "source": [
    "# Q5\n",
    "year = int(input(\"Which year do you want to check? \"))\n",
    "\n",
    "if year % 4 == 0:\n",
    "  if year % 100 == 0:\n",
    "    if year % 400 == 0:\n",
    "      print(\"It is a leap year\") \n",
    "    else:    \n",
    "        print(\"Not a leap year\")\n",
    "  else:\n",
    "    print(\"leap year\")\n",
    "else:\n",
    "    print(\"Not leap year\")"
   ]
  },
  {
   "cell_type": "code",
   "execution_count": 3,
   "metadata": {},
   "outputs": [
    {
     "name": "stdout",
     "output_type": "stream",
     "text": [
      "It is a leap year\n"
     ]
    }
   ],
   "source": [
    "year = int(input(\"Which year do you want to check? \"))\n",
    "\n",
    "if (year % 4 == 0) and (year % 100 != 0 or year % 400 == 0):\n",
    "    print(\"It is a leap year\")\n",
    "else:\n",
    "    print(\"Not leap year\")"
   ]
  }
 ],
 "metadata": {
  "kernelspec": {
   "display_name": ".venv",
   "language": "python",
   "name": "python3"
  },
  "language_info": {
   "codemirror_mode": {
    "name": "ipython",
    "version": 3
   },
   "file_extension": ".py",
   "mimetype": "text/x-python",
   "name": "python",
   "nbconvert_exporter": "python",
   "pygments_lexer": "ipython3",
   "version": "3.11.2"
  },
  "orig_nbformat": 4
 },
 "nbformat": 4,
 "nbformat_minor": 2
}
