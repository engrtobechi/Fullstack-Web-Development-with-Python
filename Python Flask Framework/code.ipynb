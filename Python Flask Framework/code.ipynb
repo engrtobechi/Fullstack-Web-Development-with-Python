{
 "cells": [
  {
   "cell_type": "markdown",
   "metadata": {},
   "source": [
    "# Fullstack Web Development Lecture Notes \n",
    "\n",
    "## Week 5: Introduction to Flask\n"
   ]
  },
  {
   "cell_type": "code",
   "execution_count": 2,
   "metadata": {},
   "outputs": [
    {
     "data": {
      "text/plain": [
       "'Justin Ifeanyi Nwachukwu'"
      ]
     },
     "execution_count": 2,
     "metadata": {},
     "output_type": "execute_result"
    }
   ],
   "source": [
    "def name(first_name, second_name, third_name=\"\"):\n",
    "\n",
    "    return first_name + \" \" + second_name + \" \" + third_name \n",
    "\n",
    "name(\"Justin\", \"Ifeanyi\", third_name=\"Nwachukwu\")"
   ]
  },
  {
   "cell_type": "markdown",
   "metadata": {},
   "source": [
    "This is an HTML file that uses htmx and Bootstrap 5 to create a simple todo list frontend. htmx is a JavaScript library that allows you to add AJAX and WebSockets functionality to your website using HTML attributes. Bootstrap 5 is a popular CSS framework that provides pre-built styles for common UI elements.\n",
    "\n",
    "In the `head` section of the HTML file, we include the Bootstrap 5 CSS file and the htmx JavaScript file from their respective CDNs. This allows us to use the features of both libraries in our code.\n",
    "\n",
    "In the `body` section, we have a `div` with the class `container` that centers our content on the page and adds some margin at the top. Inside this `div`, we have an `h1` element that displays the title of our todo list.\n",
    "\n",
    "Below the title, we have another `div` that uses htmx attributes to load the todo list items from the server when the page loads. The `hx-get` attribute specifies the URL to send a `GET` request to, and the `hx-target` attribute specifies the element to update with the response. The `hx-trigger` attribute specifies when to send the request, in this case, when the page loads.\n",
    "\n",
    "Inside this `div`, we have another `div` with the id `todo-list`. This is where our todo list items will be displayed.\n",
    "\n",
    "Below the todo list, we have a `form` element that allows us to add new items to our todo list. The form uses htmx attributes to send a `POST` request to the server when the form is submitted. The `hx-post` attribute specifies the URL to send the request to, and the `hx-target` attribute specifies the element to update with the response. The `hx-swap` attribute specifies how to update the target element, in this case, by replacing its inner HTML with the response.\n",
    "\n",
    "Inside the form, we have an `input-group` that contains an `input` element for entering new todo items and a `button` for submitting the form.\n",
    "\n",
    "This is just a simple example of how you can use htmx and Bootstrap 5 to create a todo list frontend. You can customize it further by adding more features or changing its appearance.\n",
    "\n",
    "I hope this explanation helps! Let me know if you have any questions or need further assistance. 😊"
   ]
  },
  {
   "cell_type": "code",
   "execution_count": null,
   "metadata": {},
   "outputs": [],
   "source": [
    "<!DOCTYPE html>\n",
    "<html lang=\"en\">\n",
    "\n",
    "<head>\n",
    "    <meta charset=\"UTF-8\">\n",
    "    <title>Todo List</title>\n",
    "    <link href=\"https://cdn.jsdelivr.net/npm/bootstrap@5.1.0/dist/css/bootstrap.min.css\" rel=\"stylesheet\">\n",
    "    <script src=\"https://unpkg.com/htmx.org/dist/htmx.min.js\"></script>\n",
    "</head>\n",
    "\n",
    "<body>\n",
    "    <div class=\"container mt-5\">\n",
    "        <h1 class=\"text-center mb-4\">Todo List</h1>\n",
    "        <form hx-post=\"/todos\" hx-target=\"#todo-list\" hx-swap=\"innerHTML\">\n",
    "            <div class=\"input-group mb-3\">\n",
    "                <input type=\"text\" class=\"form-control\" placeholder=\"Add todo\" name=\"text\">\n",
    "                <button class=\"btn btn-outline-secondary\" type=\"submit\">Add</button>\n",
    "            </div>\n",
    "        </form>\n",
    "        <div hx-get=\"/todos\" hx-target=\"#todo-list\" hx-trigger=\"load\">\n",
    "            <div id=\"todo-list\"></div>\n",
    "        </div>\n",
    "    </div>\n",
    "</body>\n",
    "\n",
    "</html>"
   ]
  }
 ],
 "metadata": {
  "kernelspec": {
   "display_name": ".venv",
   "language": "python",
   "name": "python3"
  },
  "language_info": {
   "codemirror_mode": {
    "name": "ipython",
    "version": 3
   },
   "file_extension": ".py",
   "mimetype": "text/x-python",
   "name": "python",
   "nbconvert_exporter": "python",
   "pygments_lexer": "ipython3",
   "version": "3.11.2"
  },
  "orig_nbformat": 4
 },
 "nbformat": 4,
 "nbformat_minor": 2
}
