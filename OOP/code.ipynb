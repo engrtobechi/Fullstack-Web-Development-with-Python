{
 "cells": [
  {
   "cell_type": "markdown",
   "metadata": {},
   "source": [
    "# Fullstack Web Development Lecture Notes \n",
    "\n",
    "## Week 4: Object Oriented Programming in Python\n",
    "\n",
    "### Introduction to object-oriented programming (OOP) in Python.\n",
    "\n",
    "Object-oriented programming is a programming paradigm that uses objects and classes to organize and structure code. In OOP, objects are instances of classes, which define the attributes and behaviors of the objects. Classes can be thought of as blueprints for creating objects.\n",
    "\n",
    "In Python, classes are defined using the `class` keyword, followed by the name of the class and a colon. The body of the class is indented and contains the methods (functions) and attributes (variables) of the class.\n",
    "\n",
    "The `__init__` method is a special method called a constructor, which is called when an object is created from the class. The `self` parameter refers to the object being created, and is used to set the initial values of the object's attributes.\n",
    "\n",
    "<a id=\"4.1\">Example 4.1</a>"
   ]
  },
  {
   "cell_type": "code",
   "execution_count": 121,
   "metadata": {
    "tags": [
     "4.1"
    ]
   },
   "outputs": [],
   "source": [
    "class Dog:\n",
    "    def __init__(self, name, age):\n",
    "        self.name = name\n",
    "        self.age = age\n",
    "\n",
    "    def bark(self):\n",
    "        return \"Woof!\"\n",
    "\n",
    "    def celebrate_birthday(self):\n",
    "        self.age += 1\n"
   ]
  },
  {
   "cell_type": "markdown",
   "metadata": {},
   "source": [
    "In <a id=\"4.1\">Example 4.1</a> above, the `Dog` class has an `__init__` method that takes two parameters: `name` and `age`. These parameters are used to set the initial values of the `name` and `age` attributes of the `Dog` object.\n",
    "\n",
    "The `bark` method is a regular method that takes no parameters (other than `self`) and returns a string `\"Woof!\"`. This method can be called on any `Dog` object to make it \"bark\".\n",
    "\n",
    "The `celebrate_birthday` method is another regular method that takes no parameters (other than `self`) and increments the `age` attribute of the `Dog` object by 1. This method can be called on any `Dog` object to make it \"celebrate its birthday\" by increasing its age.\n",
    "\n",
    "We go on below to create two `Dog` objects: `justins_dog` and `davids_dog`. These objects are created by calling the `Dog` class with the appropriate arguments for the `name` and `age` parameters. The `bark` method is then called on both objects, making them \"bark\"."
   ]
  },
  {
   "cell_type": "code",
   "execution_count": 122,
   "metadata": {},
   "outputs": [
    {
     "data": {
      "text/plain": [
       "'Woof!'"
      ]
     },
     "execution_count": 122,
     "metadata": {},
     "output_type": "execute_result"
    }
   ],
   "source": [
    "justins_dog = Dog(\"Buddy\", 3)\n",
    "justins_dog.bark()"
   ]
  },
  {
   "cell_type": "code",
   "execution_count": 123,
   "metadata": {},
   "outputs": [
    {
     "data": {
      "text/plain": [
       "'Woof!'"
      ]
     },
     "execution_count": 123,
     "metadata": {},
     "output_type": "execute_result"
    }
   ],
   "source": [
    "davids_dog = Dog(\"Jack\", 1)\n",
    "davids_dog.bark()"
   ]
  },
  {
   "cell_type": "markdown",
   "metadata": {},
   "source": [
    "The first line of code in the continuing example below, `justins_dog.celebrate_birthday()`, calls the `celebrate_birthday` method on the `justins_dog` object. This method is defined in the `Dog` class and increments the `age` attribute of the `Dog` object by 1. In this case, it will increase the age of `justins_dog` by 1.\n",
    "\n",
    "The second line of code, `print(justins_dog.age)`, uses the `print` function to print the value of the `age` attribute of the `justins_dog` object. Since the `celebrate_birthday` method was called on `justins_dog` in the previous line, its age has been incremented by 1. Therefore, this line of code will print the new age of `justins_dog`."
   ]
  },
  {
   "cell_type": "code",
   "execution_count": 125,
   "metadata": {},
   "outputs": [
    {
     "name": "stdout",
     "output_type": "stream",
     "text": [
      "5\n"
     ]
    }
   ],
   "source": [
    "justins_dog.celebrate_birthday()\n",
    "print(justins_dog.age)"
   ]
  },
  {
   "cell_type": "markdown",
   "metadata": {},
   "source": [
    "In <a id=\"4.2\">Example 4.2</a> below, the `Car` class defines a blueprint for creating Car objects. It has an `__init__` method that takes four parameters: make, model, colour, and weight. These parameters are used to set the initial values of the corresponding attributes of the Car object. The Car class also has a speed attribute, which is initially set to 0 and a boolean attribute \"intended to be private\" `_is_driving` which is set to `False`.\n",
    "\n",
    "The `drive` and `stop` methods are regular methods that print messages indicating that the car is driving or stopping, respectively."
   ]
  },
  {
   "cell_type": "code",
   "execution_count": 292,
   "metadata": {
    "tags": [
     "4.2"
    ]
   },
   "outputs": [],
   "source": [
    "class Car:\n",
    "    def __init__(self, make, model, colour, weight):\n",
    "        self.make = make\n",
    "        self.model = model\n",
    "        self.colour = colour\n",
    "        self.weight = weight\n",
    "        self.speed = 0\n",
    "        self._is_driving = False\n",
    "\n",
    "    def drive(self):\n",
    "        self.speed += 20\n",
    "        print(\"The car is driving\")\n",
    "        self._is_driving = True\n",
    "\n",
    "    def stop(self):\n",
    "        print(\"The car is stopping\")\n",
    "        self.speed = 0\n",
    "        self._is_driving = False"
   ]
  },
  {
   "cell_type": "markdown",
   "metadata": {},
   "source": [
    "Creating objects of the `Car` class we can test our methods to see how they work."
   ]
  },
  {
   "cell_type": "code",
   "execution_count": 293,
   "metadata": {},
   "outputs": [],
   "source": [
    "# Create a new car object for Justin\n",
    "justins_car = Car(\"Honda\", \"Civic\", \"Blue\", 80)"
   ]
  },
  {
   "cell_type": "code",
   "execution_count": 294,
   "metadata": {},
   "outputs": [
    {
     "name": "stdout",
     "output_type": "stream",
     "text": [
      "The car is driving\n"
     ]
    }
   ],
   "source": [
    "# Drive the Justin's car\n",
    "justins_car.drive()"
   ]
  },
  {
   "cell_type": "markdown",
   "metadata": {},
   "source": [
    "### Encapsulation and Inheritance\n",
    "\n",
    "In our next example <a id=\"4.3\">Example 4.3</a> below, a new class called `SportsCar` is defined. This class inherits from the `Car` class, which means that it has all the attributes and methods of the `Car` class, plus any additional attributes and methods that are defined in the `SportsCar` class.\n",
    "\n",
    "The `SportsCar` class has an `__init__` method that takes five parameters: `make`, `model`, `colour`, `weight`, and `max_speed`. The first four parameters are passed to the `__init__` method of the parent (`Car`) class using the `super().__init__()` syntax. This sets the initial values of the corresponding attributes of the `SportsCar` object. The fifth parameter, `max_speed`, is used to set the initial value of a new attribute called `__top_speed`. This attribute is private (indicated by the double underscore prefix), which means that it can only be accessed from within the class.\n",
    "\n",
    "The `accelerate` method is a new method defined in the `SportsCar` class. It prints a message indicating that the sports car is accelerating, and then checks if the current speed of the car is less than its top speed. If it is, it increases the speed by 10 km/h and prints the new speed.\n",
    "\n",
    "<a id=\"4.3\">Example 4.3</a>"
   ]
  },
  {
   "cell_type": "code",
   "execution_count": 295,
   "metadata": {
    "tags": [
     "4.3"
    ]
   },
   "outputs": [],
   "source": [
    "class SportsCar(Car):\n",
    "    def __init__(self, make, model, colour, weight, max_speed, engine_power):\n",
    "        super().__init__(make, model, colour, weight)\n",
    "        self.__top_speed = max_speed\n",
    "        self.__engine_power = engine_power\n",
    "\n",
    "    def accelerate(self):\n",
    "        if not self._is_driving:\n",
    "            print(\"The car must be driving before it can accelerate\")\n",
    "        elif self.speed < self.__top_speed:\n",
    "            initial_speed = self.speed\n",
    "            final_speed = min(self.speed + 20, self.__top_speed)\n",
    "            acceleration_time = self.calculate_acceleration_time(\n",
    "                initial_speed, final_speed)\n",
    "            acceleration = (final_speed - initial_speed) / acceleration_time\n",
    "            print(f\"The car is accelerating at {acceleration} m/s^2\")\n",
    "            self.speed = final_speed\n",
    "\n",
    "    def calculate_acceleration_time(self, initial_speed, final_speed):\n",
    "        # Check if the initial speed is 0\n",
    "        if initial_speed == 0:\n",
    "            raise ValueError(\"The car cannot accelerate from a standstill\")\n",
    "\n",
    "        # Calculate the net force acting on the car\n",
    "        engine_force = self.__engine_power / initial_speed\n",
    "        friction_force = 0.002 * self.weight  # assuming a constant coefficient of friction\n",
    "        # assuming constant values for air density and drag coefficient\n",
    "        air_resistance_force = 0.0012 * 0.025 * 0.33 * initial_speed**2\n",
    "        net_force = engine_force - friction_force - air_resistance_force\n",
    "\n",
    "        # Calculate the acceleration time based on the net force and the mass of the car\n",
    "        acceleration = net_force / self.weight\n",
    "        acceleration_time = (final_speed - initial_speed) / acceleration\n",
    "        return acceleration_time\n"
   ]
  },
  {
   "cell_type": "code",
   "execution_count": 296,
   "metadata": {},
   "outputs": [
    {
     "name": "stdout",
     "output_type": "stream",
     "text": [
      "The car must be driving before it can accelerate\n"
     ]
    }
   ],
   "source": [
    "# Create a new SportsCar object and try to accelerate without driving first\n",
    "davids_sports_car = SportsCar(\"Toyota\", \"Supra\", \"Red\", 1500, 250, 320)\n",
    "davids_sports_car.accelerate()"
   ]
  },
  {
   "cell_type": "code",
   "execution_count": 300,
   "metadata": {},
   "outputs": [
    {
     "name": "stdout",
     "output_type": "stream",
     "text": [
      "The car is driving\n",
      "The car is accelerating at -0.00014046606060606057 m/s^2\n"
     ]
    }
   ],
   "source": [
    "# Drive the car and then try to accelerate again\n",
    "davids_sports_car.drive()\n",
    "davids_sports_car.accelerate()"
   ]
  },
  {
   "cell_type": "markdown",
   "metadata": {},
   "source": [
    "### Additional Examples\n",
    "<a id=\"4.4\">Example 4.4</a> defines a `Student` class. The class is an example of Object-Oriented Programming (OOP) in Python. Here's an explanation of the different parts of the code:\n",
    "\n",
    "- `class Student:`: This line defines a new class called `Student`.\n",
    "- `fee_increment = 1.03`: This is a class variable that is shared by all instances of the `Student` class. It represents the fee increment factor for all students.\n",
    "- `no_students = 0`: This is another class variable that keeps track of the total number of students.\n",
    "- `def __init__(self, first, second, age, fee):`: This is the constructor method for the `Student` class. It is called whenever a new instance of the `Student` class is created. The constructor takes four arguments: `first`, `second`, `age`, and `fee`. These arguments are used to initialize the instance variables for the new student object.\n",
    "- `self.firstname = first`: This line initializes the instance variable `firstname` with the value of the argument `first`.\n",
    "- `self.secondname = second`: This line initializes the instance variable `secondname` with the value of the argument `second`.\n",
    "- `self.age = int(age)`: This line initializes the instance variable `age` with the integer value of the argument `age`.\n",
    "- `self.fee = int(fee)`: This line initializes the instance variable `fee` with the integer value of the argument `fee`.\n",
    "- `Student.no_students += 1`: This line increments the class variable `no_students` by 1 to keep track of the total number of students.\n",
    "- `def apply_increment(self):`: This is an instance method that applies the fee increment to a student object. It multiplies the student's fee by the class variable `fee_increment` and updates the student's fee.\n",
    "- `@classmethod`: This is a decorator that indicates that the following method is a class method.\n",
    "- `def change_fee_increment(cls, new_value):`: This is a class method that takes one argument: `new_value`. It updates the class variable `fee_increment` with the new value.\n",
    "- `def from_string(cls, student_str):`: This is another class method that takes one argument: a string representing a student. The method splits the string into four parts using `,` as a delimiter and creates a new student object using these parts as arguments for the constructor.\n",
    "- `def __repr__(self):`: This is a special method that returns a string representation of a student object. It uses an f-string to format the string."
   ]
  },
  {
   "cell_type": "code",
   "execution_count": 278,
   "metadata": {
    "tags": [
     "4.4"
    ]
   },
   "outputs": [],
   "source": [
    "class Student:\n",
    "    fee_increment = 1.03\n",
    "    no_students = 0\n",
    "\n",
    "    def __init__(self, first, second, age, fee):\n",
    "        self.firstname = first\n",
    "        self.secondname = second\n",
    "        self.age = int(age)\n",
    "        self.fee = int(fee)\n",
    "        Student.no_students += 1\n",
    "\n",
    "    def apply_increment(self):\n",
    "        self.fee = int(self.fee * Student.fee_increment)\n",
    "\n",
    "    @classmethod\n",
    "    def change_fee_increment(cls, new_value):\n",
    "        cls.fee_increment = new_value\n",
    "\n",
    "    @classmethod\n",
    "    def from_string(cls, student_str):\n",
    "        first, second, age, fee = student_str.split(',')\n",
    "        return cls(first, second, age, fee)\n",
    "\n",
    "    def __repr__(self):\n",
    "        return f\"Student('{self.firstname}', '{self.secondname}', {self.age}, {self.fee})\""
   ]
  },
  {
   "cell_type": "code",
   "execution_count": 279,
   "metadata": {},
   "outputs": [
    {
     "data": {
      "text/plain": [
       "1.09"
      ]
     },
     "execution_count": 279,
     "metadata": {},
     "output_type": "execute_result"
    }
   ],
   "source": [
    "Student.change_fee_increment(1.09)\n",
    "Student.fee_increment\n",
    "# Student.no_students"
   ]
  },
  {
   "cell_type": "code",
   "execution_count": 280,
   "metadata": {},
   "outputs": [],
   "source": [
    "stu_1 = Student(\"Bob\", \"Henry\", 16, 2000)\n",
    "stu_1.firstname\n",
    "\n",
    "stu_2 = Student(\"John\", \"Scott\", 16, 1780)"
   ]
  },
  {
   "cell_type": "code",
   "execution_count": 92,
   "metadata": {},
   "outputs": [
    {
     "data": {
      "text/plain": [
       "2"
      ]
     },
     "execution_count": 92,
     "metadata": {},
     "output_type": "execute_result"
    }
   ],
   "source": [
    "Student.no_students"
   ]
  },
  {
   "cell_type": "code",
   "execution_count": 281,
   "metadata": {},
   "outputs": [
    {
     "data": {
      "text/plain": [
       "1.09"
      ]
     },
     "execution_count": 281,
     "metadata": {},
     "output_type": "execute_result"
    }
   ],
   "source": [
    "# stu_2.fee_increment = 1.08\n",
    "stu_2.fee_increment"
   ]
  },
  {
   "cell_type": "code",
   "execution_count": 282,
   "metadata": {},
   "outputs": [
    {
     "data": {
      "text/plain": [
       "1.09"
      ]
     },
     "execution_count": 282,
     "metadata": {},
     "output_type": "execute_result"
    }
   ],
   "source": [
    "stu_1.fee_increment"
   ]
  },
  {
   "cell_type": "code",
   "execution_count": 60,
   "metadata": {},
   "outputs": [
    {
     "data": {
      "text/plain": [
       "2"
      ]
     },
     "execution_count": 60,
     "metadata": {},
     "output_type": "execute_result"
    }
   ],
   "source": [
    "stu_1.no_students"
   ]
  },
  {
   "cell_type": "markdown",
   "metadata": {},
   "source": [
    "### Polymorphism"
   ]
  },
  {
   "cell_type": "code",
   "execution_count": 83,
   "metadata": {},
   "outputs": [],
   "source": [
    "class Colour:\n",
    "    def render(self):\n",
    "        print(\"Rendering colour...\")\n",
    "\n",
    "class Red(Colour):\n",
    "    def render(self):\n",
    "        print(\"Rendering Red...\")\n",
    "\n",
    "class Yellow(Colour):\n",
    "    def render(self):\n",
    "        print(\"Rendering Yellow...\")\n",
    "\n",
    "class Green(Colour):\n",
    "    def render(self):\n",
    "        print(\"Rendering Green...\")"
   ]
  },
  {
   "cell_type": "code",
   "execution_count": 84,
   "metadata": {},
   "outputs": [],
   "source": [
    "new_red = Red()\n",
    "new_yellow = Yellow()\n",
    "new_green = Green()"
   ]
  },
  {
   "cell_type": "code",
   "execution_count": 85,
   "metadata": {},
   "outputs": [
    {
     "name": "stdout",
     "output_type": "stream",
     "text": [
      "Rendering Red...\n",
      "Rendering Green...\n",
      "Rendering Yellow...\n"
     ]
    }
   ],
   "source": [
    "new_red.render()\n",
    "new_green.render()\n",
    "new_yellow.render()"
   ]
  },
  {
   "cell_type": "code",
   "execution_count": 104,
   "metadata": {},
   "outputs": [
    {
     "name": "stdout",
     "output_type": "stream",
     "text": [
      "You have 5 guesses left.\n",
      "Your guess is too low.\n",
      "You have 4 guesses left.\n",
      "Your guess is too low.\n",
      "You have 3 guesses left.\n",
      "Your guess is too high.\n",
      "You have 2 guesses left.\n",
      "Your guess is too high.\n",
      "You have 1 guesses left.\n",
      "Congratulations! You guessed the secret number!\n",
      "Your final score is 1.\n"
     ]
    }
   ],
   "source": [
    "import random\n",
    "\n",
    "class Player:\n",
    "    def __init__(self, name):\n",
    "        self.name = name\n",
    "        self.guesses = []\n",
    "        self.score = 0\n",
    "\n",
    "    def guess(self, number, secret_number):\n",
    "        self.guesses.append(number)\n",
    "\n",
    "        if number == secret_number:\n",
    "            self.score += 1\n",
    "            print(\"Congratulations! You guessed the secret number!\")\n",
    "            return True\n",
    "        elif number < secret_number:\n",
    "            print(\"Your guess is too low.\")\n",
    "            return False\n",
    "        else:\n",
    "            print(\"Your guess is too high.\")\n",
    "            return False\n",
    "\n",
    "class Game:\n",
    "    def __init__(self):\n",
    "        self.secret_number = random.randint(1, 10)\n",
    "        self.number_of_guesses = 5\n",
    "        self.player = Player(input(\"What is your name? \"))\n",
    "\n",
    "    def play(self):\n",
    "        while self.number_of_guesses > 0:\n",
    "            print(\"You have {} guesses left.\".format(self.number_of_guesses))\n",
    "            guess = self.player.guess(int(input(\"Enter your guess: \")), self.secret_number)\n",
    "            if guess:\n",
    "                break\n",
    "            self.number_of_guesses -= 1\n",
    "\n",
    "        if not guess:\n",
    "            print(\"You lose! The secret number was {}.\".format(self.secret_number))\n",
    "\n",
    "        print(\"Your final score is {}.\".format(self.player.score))\n",
    "\n",
    "if __name__ == \"__main__\":\n",
    "    game = Game()\n",
    "    game.play()"
   ]
  },
  {
   "cell_type": "markdown",
   "metadata": {},
   "source": [
    "### Update on the Number Guessing Game"
   ]
  },
  {
   "cell_type": "code",
   "execution_count": 119,
   "metadata": {},
   "outputs": [
    {
     "name": "stdout",
     "output_type": "stream",
     "text": [
      "You have 5 guesses left.\n",
      "Your guess is too high.\n",
      "You have 4 guesses left.\n",
      "Your guess is too low.\n",
      "You have 3 guesses left.\n",
      "Your guess is too low.\n",
      "You have 2 guesses left.\n",
      "Congratulations! You guessed the secret number!\n",
      "You win! You guessed the secret number before the computer.\n",
      "Your final score is 1.\n"
     ]
    }
   ],
   "source": [
    "class Player:\n",
    "    def __init__(self, name):\n",
    "        self.__name = name\n",
    "        self.__guesses = []\n",
    "        self.__score = 0\n",
    "\n",
    "    @property\n",
    "    def name(self):\n",
    "        return self.__name\n",
    "\n",
    "    @name.setter\n",
    "    def name(self, new_name):\n",
    "        self.__name = new_name\n",
    "\n",
    "    @property\n",
    "    def guesses(self):\n",
    "        return self.__guesses\n",
    "\n",
    "    @guesses.setter\n",
    "    def guesses(self, new_guesses):\n",
    "        self.__guesses = new_guesses\n",
    "\n",
    "    @property\n",
    "    def score(self):\n",
    "        return self.__score\n",
    "\n",
    "    @score.setter\n",
    "    def score(self, new_score):\n",
    "        self.__score = new_score\n",
    "\n",
    "    def guess(self, number, secret_number):\n",
    "        self.guesses.append(number)\n",
    "\n",
    "        if number == secret_number:\n",
    "            self.score += 1\n",
    "            print(\"Congratulations! You guessed the secret number!\")\n",
    "            return True\n",
    "        elif number < secret_number:\n",
    "            print(\"Your guess is too low.\")\n",
    "            return False\n",
    "        else:\n",
    "            print(\"Your guess is too high.\")\n",
    "            return False\n",
    "\n",
    "class ComputerPlayer(Player):\n",
    "    def guess(self, secret_number):\n",
    "        number = random.randint(1, 10)\n",
    "        self.guesses.append(number)\n",
    "        return number == secret_number\n",
    "\n",
    "class Game:\n",
    "    def __init__(self):\n",
    "        self.secret_number = random.randint(1, 10)\n",
    "        self.number_of_guesses = 5\n",
    "        self.human_player = Player(input(\"What is your name? \"))\n",
    "        self.computer_player = ComputerPlayer(\"Computer\")\n",
    "\n",
    "    def play(self):\n",
    "        while self.number_of_guesses > 0:\n",
    "            print(\"You have {} guesses left.\".format(self.number_of_guesses))\n",
    "            human_guess = self.human_player.guess(int(input(\"Enter your guess: \")), self.secret_number)\n",
    "            if human_guess:\n",
    "                print(\"You win! You guessed the secret number before the computer.\")\n",
    "                break\n",
    "            computer_guess = self.computer_player.guess(self.secret_number)\n",
    "            if computer_guess:\n",
    "                print(\"You lose! The computer guessed the secret number before you.\")\n",
    "            self.number_of_guesses -= 1\n",
    "\n",
    "        if not human_guess and not computer_guess:\n",
    "            print(\"It's a tie! Neither you nor the computer guessed the secret number.\")\n",
    "            print(\"The secret number was {}.\".format(self.secret_number))\n",
    "\n",
    "        print(\"Your final score is {}.\".format(self.human_player.score))\n",
    "\n",
    "\n",
    "if __name__ == \"__main__\":\n",
    "    game = Game()\n",
    "    game.play()  \n",
    "    "
   ]
  },
  {
   "cell_type": "code",
   "execution_count": 116,
   "metadata": {},
   "outputs": [
    {
     "name": "stdout",
     "output_type": "stream",
     "text": [
      "[5]\n"
     ]
    }
   ],
   "source": [
    "ply = Player(\"Jane\")\n",
    "ply.guesses = [5]\n",
    "print(ply.guesses)"
   ]
  }
 ],
 "metadata": {
  "kernelspec": {
   "display_name": ".venv",
   "language": "python",
   "name": "python3"
  },
  "language_info": {
   "codemirror_mode": {
    "name": "ipython",
    "version": 3
   },
   "file_extension": ".py",
   "mimetype": "text/x-python",
   "name": "python",
   "nbconvert_exporter": "python",
   "pygments_lexer": "ipython3",
   "version": "3.11.2"
  },
  "orig_nbformat": 4
 },
 "nbformat": 4,
 "nbformat_minor": 2
}
