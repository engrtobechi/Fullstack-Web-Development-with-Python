{
 "cells": [
  {
   "attachments": {},
   "cell_type": "markdown",
   "metadata": {},
   "source": [
    "# Fullstack Web Development Lecture Notes \n",
    "\n",
    "## Week 3: Modules and Libraries in Python\n",
    "\n",
    "### Modules and Libraries in Python\n",
    "\n",
    "* **Modules** are a way to organize code into logical units. They are files with the `.py` extension that contain Python code. Modules can contain functions, variables, and classes.\n",
    "* **Libraries** are collections of modules. They are typically stored in directories on the filesystem. Libraries can be imported into programs using the `import` statement.\n",
    "* The `import` statement is used to import modules into a program. The syntax for the `import` statement is:\n",
    "\n",
    "```python\n",
    "import module_name\n",
    "```\n",
    "\n",
    "For example, to import the `math` module, you would use the following code:\n",
    "\n",
    "```python\n",
    "import math\n",
    "```\n",
    "\n",
    "Once a module is imported, you can access its functions, variables, and classes using the `module_name.function_name` syntax. For example, to access the `pi` constant from the `math` module, you would use the following code:\n",
    "\n",
    "```python\n",
    "pi = math.pi\n",
    "```\n",
    "\n",
    "* **The Python Standard Library** is a collection of modules that are included with the Python distribution. The Standard Library contains modules for a variety of tasks, such as file I/O, string manipulation, and mathematical operations.\n",
    "* **Third-party libraries** are libraries that are created by third-party developers. There are thousands of third-party libraries available for Python, covering a wide range of tasks.\n",
    "\n",
    "Modules and libraries are a powerful way to organize code and reuse functionality. They can help to make your programs more modular, readable, and maintainable.\n",
    "\n",
    "Here are some additional resources that you may find helpful:\n",
    "\n",
    "* Python Modules: https://docs.python.org/3/tutorial/modules.html\n",
    "* Python Libraries: https://docs.python.org/3/library/\n",
    "* The Python Standard Library: https://docs.python.org/3/library/\n",
    "* Third-party Python Libraries: https://pypi.org/\n",
    "\n",
    "<a id=\"3.!\">Example 3.1</a>\n",
    "\n",
    "Calculate the area of a rectangle using the python builtin math module."
   ]
  },
  {
   "cell_type": "code",
   "execution_count": 11,
   "metadata": {
    "tags": [
     "3.1"
    ]
   },
   "outputs": [
    {
     "name": "stdout",
     "output_type": "stream",
     "text": [
      "78.53981633974483\n"
     ]
    }
   ],
   "source": [
    "import math\n",
    "\n",
    "radius = 5\n",
    "area = math.pi * math.pow(radius, 2)\n",
    "\n",
    "print(area)"
   ]
  },
  {
   "cell_type": "markdown",
   "metadata": {},
   "source": [
    "The first line, `import math`, imports the `math` module into the current program. The `math` module contains a number of functions for mathematical operations, such as `pi` and `pow()`.\n",
    "\n",
    "The next line, `radius = 5`, defines a variable called `radius` and assigns it the value 5.\n",
    "\n",
    "The third line, `area = math.pi * math.pow(radius, 2)`, calculates the area of a circle with radius 5. The `math.pi` function returns the value of pi, and the `math.pow()` function raises a number to a power. In this case, we are raising `radius` to the power of 2, which is the same as squaring it.\n",
    "\n",
    "The final line, `print(area)`, prints the value of `area` to the console.\n",
    "\n",
    "This code can be used to teach the following concepts about modules and libraries:\n",
    "\n",
    "* Modules are a way to organize code into logical units.\n",
    "* Libraries are collections of modules.\n",
    "* The `import` statement is used to import modules into a program.\n",
    "* Modules can contain functions, variables, and classes.\n",
    "* Functions in modules can be used to perform mathematical operations."
   ]
  },
  {
   "attachments": {},
   "cell_type": "markdown",
   "metadata": {},
   "source": [
    "#### Using alias with \n",
    "\n",
    "In Python, aliasing occurs when two variables refer to the same object. This can happen when you assign the value of one variable to another variable, or when you import a module and assign it to a new variable.\n",
    "\n",
    "In <a id=\"3.2\">Example 3.2</a>, the variable m is aliased to the math module. This means that m and math refer to the same object. When you call the sqrt() function on m, you are actually calling the sqrt() function on the math module.\n",
    "\n",
    "The same is true for the pi variable. When you call the pi attribute on m, you are actually calling the pi attribute on the math module.\n",
    "\n",
    "Aliasing can be a useful concept in Python, but it can also be confusing. It is important to be aware of aliasing when you are working with variables and modules.\n",
    "\n",
    "<a id=\"3.2\">Example 3.2:</a>"
   ]
  },
  {
   "cell_type": "code",
   "execution_count": 7,
   "metadata": {
    "tags": [
     "3.2"
    ]
   },
   "outputs": [
    {
     "name": "stdout",
     "output_type": "stream",
     "text": [
      "4.0\n"
     ]
    },
    {
     "data": {
      "text/plain": [
       "3.141592653589793"
      ]
     },
     "execution_count": 7,
     "metadata": {},
     "output_type": "execute_result"
    }
   ],
   "source": [
    "import math as m\n",
    "\n",
    "print(m.sqrt(16))\n",
    "m.pi"
   ]
  },
  {
   "attachments": {},
   "cell_type": "markdown",
   "metadata": {},
   "source": [
    "#### Importing specific functions\n",
    "\n",
    "You can import specific functions from a module. You can do this by using the `from` keyword. The syntax for importing a specific function from a module is:\n",
    "\n",
    "```python\n",
    "from module_name import function_name\n",
    "```\n",
    "\n",
    "For example, to import the `sqrt()` function from the `math` module, you would use the following code:\n",
    "\n",
    "```python\n",
    "from math import sqrt\n",
    "```\n",
    "\n",
    "Once you have imported a function from a module, you can use it as if it were defined in your own code. For example, the following code will print the square root of 16:\n",
    "\n",
    "```python\n",
    "from math import sqrt\n",
    "\n",
    "print(sqrt(16))\n",
    "```\n",
    "\n",
    "You can also import multiple functions from a module at the same time by separating the function names with commas. For example, the following code will import the `sqrt()` and `pi` functions from the `math` module:\n",
    "\n",
    "```python\n",
    "from math import sqrt, pi\n",
    "\n",
    "print(sqrt(16))\n",
    "print(pi)\n",
    "```\n",
    "\n",
    "It is important to note that when you import a function from a module, you are not actually copying the function. You are simply creating a reference to the function in the module. This means that if you change the function in the module, the change will be reflected in your code."
   ]
  },
  {
   "attachments": {},
   "cell_type": "markdown",
   "metadata": {},
   "source": [
    "The Random Module"
   ]
  },
  {
   "cell_type": "code",
   "execution_count": 22,
   "metadata": {},
   "outputs": [
    {
     "name": "stdout",
     "output_type": "stream",
     "text": [
      "18\n"
     ]
    }
   ],
   "source": [
    "import random\n",
    "\n",
    "secret_number = random.randint(1, 100)\n",
    "print(secret_number)"
   ]
  },
  {
   "attachments": {},
   "cell_type": "markdown",
   "metadata": {},
   "source": [
    "DateTime Module"
   ]
  },
  {
   "cell_type": "code",
   "execution_count": 19,
   "metadata": {},
   "outputs": [
    {
     "name": "stdout",
     "output_type": "stream",
     "text": [
      "Current Date and Time:  2023-07-24 17:20:53.177062\n"
     ]
    }
   ],
   "source": [
    "import datetime\n",
    "\n",
    "current_datetime = datetime.datetime.now()\n",
    "print(\"Current Date and Time: \", current_datetime)\n"
   ]
  },
  {
   "cell_type": "code",
   "execution_count": 10,
   "metadata": {},
   "outputs": [
    {
     "name": "stdout",
     "output_type": "stream",
     "text": [
      "Sorry you are only allowed to enter a number.\n",
      "The area of the square is:  TobechiTobechi\n"
     ]
    }
   ],
   "source": [
    "import math as m\n",
    "\n",
    "try:\n",
    "    # A = a^2 is the area of a square\n",
    "    length_of_side = input(\"What is the length of the side of the square:\")\n",
    "    area = m.pow(length_of_side, 2)\n",
    "except (TypeError, ValueError):\n",
    "    print(\"Sorry you are only allowed to enter a number.\")\n",
    "\n",
    "print(\"The area of the square is: \", area)"
   ]
  },
  {
   "cell_type": "markdown",
   "metadata": {},
   "source": [
    "Using else with the try block"
   ]
  },
  {
   "cell_type": "code",
   "execution_count": 19,
   "metadata": {},
   "outputs": [
    {
     "name": "stdout",
     "output_type": "stream",
     "text": [
      "5.0\n"
     ]
    }
   ],
   "source": [
    "try:\n",
    "    x = int(input(\"Enter a number.\"))\n",
    "    results = 10 / x\n",
    "except ValueError:\n",
    "    print(\"Only numbers are accepted.\")\n",
    "except ZeroDivisionError:\n",
    "    print(\"Can not divide by zero\")\n",
    "finally:\n",
    "    print(results)"
   ]
  },
  {
   "cell_type": "code",
   "execution_count": 20,
   "metadata": {},
   "outputs": [
    {
     "name": "stdout",
     "output_type": "stream",
     "text": [
      "Hello Justin, cannot divide by zero\n"
     ]
    }
   ],
   "source": [
    "def divide(a, b):\n",
    "    if b == 0:\n",
    "        raise ValueError(\"Hello Justin, cannot divide by zero\")\n",
    "    return a / b\n",
    "\n",
    "try:\n",
    "    result = divide(12, 0)\n",
    "except ValueError as e:\n",
    "    print(e)"
   ]
  },
  {
   "cell_type": "markdown",
   "metadata": {},
   "source": [
    "### More Example\n",
    "\n",
    "#### Example using the requests and beautifulsoup4 libraries\n",
    "\n",
    "This Python code uses the `requests` and `BeautifulSoup` libraries to fetch the title of a Wikipedia page. The `requests.get()` method is used to send a GET request to the Wikipedia page for the Python programming language. If the response status code is `200`, which means the request was successful, the response text is parsed using `BeautifulSoup`. The code then finds the `h1` element with the `id` attribute set to `\"firstHeading\"` and retrieves its text content, which is the title of the Wikipedia page. The title is then printed in a formatted string. If the response status code is not `200`, it prints \"Failed to fetch the Wikipedia Page.\"."
   ]
  },
  {
   "cell_type": "code",
   "execution_count": 70,
   "metadata": {},
   "outputs": [
    {
     "name": "stdout",
     "output_type": "stream",
     "text": [
      "The title of the Wikipedia Page is: Python (programming language)\n"
     ]
    }
   ],
   "source": [
    "import requests\n",
    "from bs4 import BeautifulSoup\n",
    "\n",
    "# Define the URL of the Wikipedia page\n",
    "url = \"https://en.wikipedia.org/wiki/Python_(programming_language)\"\n",
    "\n",
    "# Send a GET request to the URL\n",
    "response = requests.get(url)\n",
    "\n",
    "# Check if the request was successful\n",
    "if response.status_code == 200:\n",
    "    # Parse the response text using BeautifulSoup\n",
    "    doc = BeautifulSoup(response.text, \"html.parser\")\n",
    "    \n",
    "    # Find the h1 element with the id attribute set to \"firstHeading\"\n",
    "    title_element = doc.find(\"h1\", {\"id\": \"firstHeading\"})\n",
    "    \n",
    "    # Retrieve the text content of the title element\n",
    "    title = title_element.text\n",
    "    \n",
    "    # Print the title of the Wikipedia page in a formatted string\n",
    "    print(f\"The title of the Wikipedia Page is: {title}\")\n",
    "else:\n",
    "    # Print an error message if the request was not successful\n",
    "    print(\"Failed to fetch the Wikipedia Page.\")"
   ]
  },
  {
   "cell_type": "markdown",
   "metadata": {},
   "source": [
    "#### Example with request and json libraries\n",
    "\n",
    "This Python code uses the `requests` and `json` libraries to fetch quotes from an API. The `requests.get()` method is used to send a GET request to the API endpoint `https://type.fit/api/quotes`. If the response status code is `200`, which means the request was successful, the response text is loaded into a Python dictionary using the `json.loads()` method. The code then retrieves the quote and author from the third element of the data list (index 2) and prints them in a formatted string. If the response status code is not `200`, it prints \"We have a different status\". Otherwise, it prints \"Failed to fetch quotes.\"."
   ]
  },
  {
   "cell_type": "code",
   "execution_count": 69,
   "metadata": {},
   "outputs": [
    {
     "name": "stdout",
     "output_type": "stream",
     "text": [
      "\"A house divided against itself cannot stand.\" - Abraham Lincoln, type.fit\n"
     ]
    }
   ],
   "source": [
    "import requests\n",
    "import json\n",
    "\n",
    "# Define the API endpoint\n",
    "api_endpoint = \"https://type.fit/api/quotes\"\n",
    "\n",
    "# Send a GET request to the API endpoint\n",
    "response = requests.get(api_endpoint)\n",
    "\n",
    "# Check if the request was successful\n",
    "if response.status_code == 200:\n",
    "    # Load the response text into a Python dictionary\n",
    "    data = json.loads(response.text)\n",
    "    \n",
    "    # Retrieve the quote and author from the third element of the data list (index 2)\n",
    "    quote = data[2][\"text\"]\n",
    "    author = data[2][\"author\"]\n",
    "    \n",
    "    # Print the quote and author in a formatted string\n",
    "    print(f'\"{quote}\" - {author}')\n",
    "else:\n",
    "    # Print an error message if the request was not successful\n",
    "    print(\"Failed to fetch quotes.\")"
   ]
  },
  {
   "cell_type": "markdown",
   "metadata": {},
   "source": [
    "#### Number Guessing Game\n",
    "The game is a simple guessing game where the computer randomly generates a number between 1 and 10, and the player tries to guess the number. The player is given hints as to whether their guess is too high or too low. The game continues until the player guesses the correct number."
   ]
  },
  {
   "cell_type": "code",
   "execution_count": 72,
   "metadata": {},
   "outputs": [
    {
     "name": "stdout",
     "output_type": "stream",
     "text": [
      "This is my first child game.\n",
      "You got it\n"
     ]
    }
   ],
   "source": [
    "import random\n",
    "\n",
    "def guess_the_number():\n",
    "    \"\"\"\n",
    "    This function generates a random number between 1 and 10, and then prompts the user to guess the number.\n",
    "    The function keeps looping until the user guesses the correct number.\n",
    "    \"\"\"\n",
    "number = random.randint(1, 10)\n",
    "print(\"This is my first child game.\")\n",
    "\n",
    "while True:\n",
    "    try:\n",
    "        guess = int(input(\"Enter a number: \"))\n",
    "    except ValueError:\n",
    "        print(\"Please enter a valid number\")\n",
    "        continue\n",
    "\n",
    "    # Check if the guess is correct\n",
    "    if guess == number:\n",
    "        print(\"You got it\")\n",
    "        break\n",
    "    elif guess < number:\n",
    "        print(\"Too low\")\n",
    "    else:\n",
    "        print(\"Too hight\")\n",
    "\n",
    "if __name__ == \"__main__\":\n",
    "    guess_the_number()\n"
   ]
  },
  {
   "cell_type": "markdown",
   "metadata": {},
   "source": [
    "#### The Hangman Game\n",
    "Hangman is a word guessing game for two or more players. One player thinks of a word, phrase, or sentence and the other(s) tries to guess it by suggesting letters or numbers within a certain number of guesses. Originally a paper-and-pencil game, there are now electronic versions."
   ]
  },
  {
   "cell_type": "code",
   "execution_count": 78,
   "metadata": {},
   "outputs": [
    {
     "name": "stdout",
     "output_type": "stream",
     "text": [
      "\n",
      " ----\n",
      "\n",
      " j---\n",
      "\n",
      " ja-a\n",
      "You guessed the word: 'java', \n",
      " You won.\n"
     ]
    }
   ],
   "source": [
    "import random\n",
    "\n",
    "def hangman():\n",
    "    \"\"\"\n",
    "    Play the game of Hangman.\n",
    "\n",
    "    The game starts with a randomly selected word, and the player has 8 attempts to guess the word.\n",
    "    The player enters a letter, and if the letter is in the word, the letter is revealed in the hidden word.\n",
    "    If the letter is not in the word, the player loses an attempt.\n",
    "    The game ends when the player guesses the word or when the player has no more attempts.\n",
    "    \"\"\"\n",
    "    \n",
    "    # Initializing game state\n",
    "    word_list = [\"banana\", \"java\"]\n",
    "    word = random.choice(word_list)\n",
    "    hidden_word = \"-\" * len(word)\n",
    "    attempts = 8\n",
    "    guessed_letters = set()\n",
    "\n",
    "    while attempts > 0:\n",
    "        print(\"\\n\", hidden_word)\n",
    "\n",
    "        guess = input(\"Enter your guess: \")\n",
    "\n",
    "        if guess in guessed_letters:\n",
    "            print(\"You already typed this letter.\")\n",
    "            continue\n",
    "\n",
    "        guessed_letters.add(guess)\n",
    "\n",
    "        if guess in word:\n",
    "            hidden_word = \"\".join([char if char in guessed_letters else \"-\" for char in word])\n",
    "            if hidden_word == word:\n",
    "                print(f\"You guessed the word: '{word}', \\n You won.\")\n",
    "                break\n",
    "        else:\n",
    "            print(\"No such letter in the word\")\n",
    "            attempts -= 1\n",
    "\n",
    "    else:\n",
    "        print(\"You are hangged.\")\n",
    "\n",
    "if __name__ == \"__main__\":\n",
    "    hangman()"
   ]
  },
  {
   "cell_type": "markdown",
   "metadata": {},
   "source": [
    "#### Word Scramble Game"
   ]
  },
  {
   "cell_type": "code",
   "execution_count": 82,
   "metadata": {},
   "outputs": [
    {
     "name": "stderr",
     "output_type": "stream",
     "text": [
      "[nltk_data] Downloading package words to\n",
      "[nltk_data]     C:\\Users\\tobec\\AppData\\Roaming\\nltk_data...\n",
      "[nltk_data]   Package words is already up-to-date!\n"
     ]
    },
    {
     "name": "stdout",
     "output_type": "stream",
     "text": [
      "Random letters: ['e', 'l', 'b', 'u']\n",
      "Unscramble the letters to form valid English words!\n",
      "Correct!\n",
      "Correct!\n",
      "Correct!\n",
      "Correct!\n",
      "Incorrect, try again.\n",
      "Incorrect, try again.\n"
     ]
    }
   ],
   "source": [
    "import random\n",
    "import itertools\n",
    "import nltk\n",
    "from nltk.corpus import words\n",
    "\n",
    "def word_unscramble():\n",
    "    nltk.download('words')\n",
    "    dictionary = set(words.words())\n",
    "    letters = [chr(i) for i in range(ord('a'), ord('z') + 1)]\n",
    "    random_letters = random.sample(letters, 4)\n",
    "    print(\"Random letters:\", random_letters)\n",
    "\n",
    "    permutations = []\n",
    "    for i in range(1, len(random_letters) + 1):\n",
    "        permutations.extend([\"\".join(perm) for perm in itertools.permutations(random_letters, i)])\n",
    "\n",
    "    valid_words = [word for word in permutations if word in dictionary]\n",
    "\n",
    "    print(\"Unscramble the letters to form valid English words!\")\n",
    "    score = 0\n",
    "    while valid_words:\n",
    "        guess = input(\"Enter a word: \")\n",
    "        if guess in valid_words:\n",
    "            print(\"Correct!\")\n",
    "            score += len(guess)\n",
    "            valid_words.remove(guess)\n",
    "        else:\n",
    "            print(\"Incorrect, try again.\")\n",
    "\n",
    "    print(f\"Congratulations, you found all the words! Your final score is {score}.\")\n",
    "\n",
    "word_unscramble()\n"
   ]
  },
  {
   "cell_type": "markdown",
   "metadata": {},
   "source": [
    "#### Creating a Word Cloud"
   ]
  },
  {
   "cell_type": "code",
   "execution_count": 1,
   "metadata": {},
   "outputs": [
    {
     "data": {
      "image/png": "[encoded data removed]",
      "text/plain": [
       "<Figure size 1000x500 with 1 Axes>"
      ]
     },
     "metadata": {},
     "output_type": "display_data"
    }
   ],
   "source": [
    "from wordcloud import WordCloud\n",
    "import matplotlib.pyplot as plt\n",
    "\n",
    "# Define the text that we want to create a word cloud from.\n",
    "text = \"Python is an amazing programming language. It is fun and powerful\"\n",
    "\n",
    "# Create a WordCloud object with the specified width, height, and background color\n",
    "cloud = WordCloud(width=800, height=400, background_color=\"white\")\n",
    "\n",
    "# Generate the word cloud from the text\n",
    "cloud.generate(text)\n",
    "\n",
    "# Create a figure with the specified size\n",
    "plt.figure(figsize=(10,5))\n",
    "\n",
    "# Display the word cloud\n",
    "plt.imshow(cloud, interpolation=\"bilinear\")\n",
    "\n",
    "plt.axis(\"off\")\n",
    "\n",
    "plt.show()"
   ]
  }
 ],
 "metadata": {
  "kernelspec": {
   "display_name": ".venv",
   "language": "python",
   "name": "python3"
  },
  "language_info": {
   "codemirror_mode": {
    "name": "ipython",
    "version": 3
   },
   "file_extension": ".py",
   "mimetype": "text/x-python",
   "name": "python",
   "nbconvert_exporter": "python",
   "pygments_lexer": "ipython3",
   "version": "3.11.2"
  },
  "orig_nbformat": 4
 },
 "nbformat": 4,
 "nbformat_minor": 2
}
